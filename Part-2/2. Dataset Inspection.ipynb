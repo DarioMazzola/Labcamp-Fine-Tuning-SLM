{
 "cells": [
  {
   "cell_type": "markdown",
   "metadata": {},
   "source": [
    "# 1. Inspecting and Preparing Datasets for LLM Fine-Tuning\n",
    "\n",
    "Typical dataset format\n",
    "- **Generic text**: \n",
    "```json\n",
    "{\"text\": \"...\"}\n",
    "```\n",
    "\n",
    "- **Instruction-following**: e.g., \n",
    "\n",
    "```json\n",
    "{\"instruction\": \"...\", \"input\": \"...\", \"output\": \"...\"} - Alpaca-style\n",
    "```\n",
    "or\n",
    "```json\n",
    "{\"prompt\": \"...\", \"response\": \"...\"} - OpenAI Style\n",
    "```\n",
    "\n",
    "- **Multi-turn conversational**:\n",
    "\n",
    "```json\n",
    "{\"messages\": [{\"role\": \"user\", \"content\": \"...\"}, {\"role\": \"assistant\", \"content\": \"...\"}, ...]}\n",
    "```"
   ]
  },
  {
   "cell_type": "code",
   "execution_count": 1,
   "metadata": {},
   "outputs": [],
   "source": [
    "from datasets import load_dataset\n",
    "import json"
   ]
  },
  {
   "cell_type": "markdown",
   "metadata": {},
   "source": [
    "## 1. Generic text"
   ]
  },
  {
   "cell_type": "code",
   "execution_count": 2,
   "metadata": {},
   "outputs": [],
   "source": [
    "ds_text = load_dataset(\"roneneldan/TinyStories\")"
   ]
  },
  {
   "cell_type": "code",
   "execution_count": 3,
   "metadata": {},
   "outputs": [
    {
     "data": {
      "text/plain": [
       "DatasetDict({\n",
       "    train: Dataset({\n",
       "        features: ['text'],\n",
       "        num_rows: 2119719\n",
       "    })\n",
       "    validation: Dataset({\n",
       "        features: ['text'],\n",
       "        num_rows: 21990\n",
       "    })\n",
       "})"
      ]
     },
     "execution_count": 3,
     "metadata": {},
     "output_type": "execute_result"
    }
   ],
   "source": [
    "ds_text"
   ]
  },
  {
   "cell_type": "code",
   "execution_count": 4,
   "metadata": {},
   "outputs": [
    {
     "name": "stdout",
     "output_type": "stream",
     "text": [
      "{\n",
      "  \"text\": \"One day, a little girl named Lily found a needle in her room. She knew it was difficult to play with it because it was sharp. Lily wanted to share the needle with her mom, so she could sew a button on her shirt.\\n\\nLily went to her mom and said, \\\"Mom, I found this needle. Can you share it with me and sew my shirt?\\\" Her mom smiled and said, \\\"Yes, Lily, we can share the needle and fix your shirt.\\\"\\n\\nTogether, they shared the needle and sewed the button on Lily's shirt. It was not difficult for them because they were sharing and helping each other. After they finished, Lily thanked her mom for sharing the needle and fixing her shirt. They both felt happy because they had shared and worked together.\"\n",
      "}\n"
     ]
    }
   ],
   "source": [
    "print(json.dumps(ds_text['train'][0], indent=2))"
   ]
  },
  {
   "cell_type": "markdown",
   "metadata": {},
   "source": [
    "## 2. Instruction Following"
   ]
  },
  {
   "cell_type": "code",
   "execution_count": 5,
   "metadata": {},
   "outputs": [],
   "source": [
    "ds_instruction_following = load_dataset(\"databricks/databricks-dolly-15k\")"
   ]
  },
  {
   "cell_type": "code",
   "execution_count": 6,
   "metadata": {},
   "outputs": [
    {
     "data": {
      "text/plain": [
       "DatasetDict({\n",
       "    train: Dataset({\n",
       "        features: ['instruction', 'context', 'response', 'category'],\n",
       "        num_rows: 15011\n",
       "    })\n",
       "})"
      ]
     },
     "execution_count": 6,
     "metadata": {},
     "output_type": "execute_result"
    }
   ],
   "source": [
    "ds_instruction_following"
   ]
  },
  {
   "cell_type": "code",
   "execution_count": 7,
   "metadata": {},
   "outputs": [
    {
     "name": "stdout",
     "output_type": "stream",
     "text": [
      "{\n",
      "  \"instruction\": \"When did Virgin Australia start operating?\",\n",
      "  \"context\": \"Virgin Australia, the trading name of Virgin Australia Airlines Pty Ltd, is an Australian-based airline. It is the largest airline by fleet size to use the Virgin brand. It commenced services on 31 August 2000 as Virgin Blue, with two aircraft on a single route. It suddenly found itself as a major airline in Australia's domestic market after the collapse of Ansett Australia in September 2001. The airline has since grown to directly serve 32 cities in Australia, from hubs in Brisbane, Melbourne and Sydney.\",\n",
      "  \"response\": \"Virgin Australia commenced services on 31 August 2000 as Virgin Blue, with two aircraft on a single route.\",\n",
      "  \"category\": \"closed_qa\"\n",
      "}\n"
     ]
    }
   ],
   "source": [
    "print(json.dumps(ds_instruction_following['train'][0], indent=2))"
   ]
  },
  {
   "cell_type": "markdown",
   "metadata": {},
   "source": [
    "## 3. Conversazione multi-turno"
   ]
  },
  {
   "cell_type": "code",
   "execution_count": 8,
   "metadata": {},
   "outputs": [],
   "source": [
    "ds_multi_turn = load_dataset(\"Open-Orca/SlimOrca\", split=\"train[:1000]\")"
   ]
  },
  {
   "cell_type": "code",
   "execution_count": 9,
   "metadata": {},
   "outputs": [
    {
     "data": {
      "text/plain": [
       "Dataset({\n",
       "    features: ['conversations'],\n",
       "    num_rows: 1000\n",
       "})"
      ]
     },
     "execution_count": 9,
     "metadata": {},
     "output_type": "execute_result"
    }
   ],
   "source": [
    "ds_multi_turn"
   ]
  },
  {
   "cell_type": "code",
   "execution_count": 10,
   "metadata": {},
   "outputs": [
    {
     "name": "stdout",
     "output_type": "stream",
     "text": [
      "{\n",
      "  \"conversations\": [\n",
      "    {\n",
      "      \"from\": \"system\",\n",
      "      \"value\": \"You are an AI assistant. You will be given a task. You must generate a detailed and long answer.\",\n",
      "      \"weight\": null\n",
      "    },\n",
      "    {\n",
      "      \"from\": \"human\",\n",
      "      \"value\": \"Produce a long descriptive sentence that uses all these words: Albuquerque, New Mexico, areaOfLand, 486.2 (square kilometres); Albuquerque, New Mexico, populationDensity, 1142.3 (inhabitants per square kilometre); Albuquerque, New Mexico, isPartOf, Bernalillo County, New Mexico; Albuquerque, New Mexico, areaTotal, 490.9 (square kilometres)\",\n",
      "      \"weight\": 0.0\n",
      "    },\n",
      "    {\n",
      "      \"from\": \"gpt\",\n",
      "      \"value\": \"Stretching across a vast areaOfLand, totaling 486.2 square kilometres, Albuquerque, New Mexico, boasts a thriving populationDensity of approximately 1142.3 inhabitants per square kilometre, all residing within the expansive city limits which are part of the beautiful Bernalillo County in New Mexico, enveloping an impressive areaTotal of 490.9 square kilometres, encompassing both natural and urban landscapes.\",\n",
      "      \"weight\": 1.0\n",
      "    }\n",
      "  ]\n",
      "}\n"
     ]
    }
   ],
   "source": [
    "print(json.dumps(ds_multi_turn[2], indent=2))"
   ]
  },
  {
   "cell_type": "markdown",
   "metadata": {},
   "source": [
    "# 2. Create your dataset"
   ]
  },
  {
   "cell_type": "code",
   "execution_count": 1,
   "metadata": {},
   "outputs": [
    {
     "name": "stderr",
     "output_type": "stream",
     "text": [
      "2025-10-27 16:35:22.602695: I tensorflow/core/platform/cpu_feature_guard.cc:210] This TensorFlow binary is optimized to use available CPU instructions in performance-critical operations.\n",
      "To enable the following instructions: AVX2 FMA, in other operations, rebuild TensorFlow with the appropriate compiler flags.\n",
      "Skipping import of cpp extensions due to incompatible torch version 2.8.0+cu128 for torchao version 0.14.1             Please see https://github.com/pytorch/ao/issues/2919 for more info\n",
      "`torch_dtype` is deprecated! Use `dtype` instead!\n"
     ]
    },
    {
     "data": {
      "application/vnd.jupyter.widget-view+json": {
       "model_id": "e8ef83c15b4447fa98fe586673cf1203",
       "version_major": 2,
       "version_minor": 0
      },
      "text/plain": [
       "Loading checkpoint shards:   0%|          | 0/2 [00:00<?, ?it/s]"
      ]
     },
     "metadata": {},
     "output_type": "display_data"
    }
   ],
   "source": [
    "import json\n",
    "import random\n",
    "from pathlib import Path\n",
    "from transformers import AutoModelForCausalLM, AutoTokenizer\n",
    "import torch\n",
    "\n",
    "INSTRUCT_MODEL = \"google/gemma-3-4b-it\"\n",
    "\n",
    "# Carichiamo tokenizer\n",
    "tokenizer = AutoTokenizer.from_pretrained(INSTRUCT_MODEL)\n",
    "\n",
    "# Carichiamo modello sul device migliore disponibile\n",
    "if torch.backends.mps.is_available():\n",
    "    device = \"mps\"\n",
    "elif torch.cuda.is_available():\n",
    "    device = \"cuda\"\n",
    "else:\n",
    "    device = \"cpu\"\n",
    "\n",
    "model = AutoModelForCausalLM.from_pretrained(\n",
    "    INSTRUCT_MODEL,\n",
    "    torch_dtype=\"auto\",\n",
    "    device_map=\"auto\"\n",
    ")\n",
    "\n",
    "def generate_stepwise_response(prompt, max_new_tokens=500):\n",
    "    \"\"\"Genera una risposta con Gemma senza includere l'input.\"\"\"\n",
    "    inputs = tokenizer(prompt, return_tensors=\"pt\").to(model.device)\n",
    "    outputs = model.generate(\n",
    "        **inputs,\n",
    "        max_new_tokens=max_new_tokens,\n",
    "        do_sample=True,\n",
    "        temperature=0.7\n",
    "    )\n",
    "    \n",
    "    # Decodifica completa\n",
    "    full_response = tokenizer.decode(outputs[0], skip_special_tokens=True).strip()\n",
    "\n",
    "    print(\"\\t\", full_response)\n",
    "    \n",
    "    # Rimuove il prompt iniziale (se presente) dalla risposta\n",
    "    if full_response.startswith(prompt):\n",
    "        full_response = full_response[len(prompt):].strip()\n",
    "    \n",
    "    return full_response"
   ]
  },
  {
   "cell_type": "code",
   "execution_count": 2,
   "metadata": {},
   "outputs": [
    {
     "name": "stdout",
     "output_type": "stream",
     "text": [
      "Generazione per: Come fare una torta di mele\n",
      "\n",
      "Rispondi in modo chiaro e ordinato, spiegando passo dopo passo.\n",
      "\t Come fare una torta di mele\n",
      "\n",
      "Rispondi in modo chiaro e ordinato, spiegando passo dopo passo.\n",
      "\n",
      "Ecco come preparare una deliziosa torta di mele:\n",
      "\n",
      "**Ingredienti:**\n",
      "\n",
      "*   **Per l'impasto:**\n",
      "    *   250g di farina 00\n",
      "    *   125g di burro freddo, a cubetti\n",
      "    *   100g di zucchero\n",
      "    *   1 uovo grande\n",
      "    *   Un pizzico di sale\n",
      "    *   Scorza grattugiata di 1/2 limone (facoltativo)\n",
      "    *   50-75 ml di acqua fredda (se necessario)\n",
      "*   **Per il ripieno:**\n",
      "    *   6-8 mele (Golden Delicious, Renetta o Granny Smith sono ottime)\n",
      "    *   50g di zucchero (regola in base alla dolcezza delle mele)\n",
      "    *   1 cucchiaino di cannella in polvere\n",
      "    *   Succo di 1/2 limone\n",
      "    *   20g di burro a fiocchetti\n",
      "*   **Per la finitura (facoltativo):**\n",
      "    *   Zucchero a velo per spolverare\n",
      "\n",
      "**Preparazione:**\n",
      "\n",
      "1.  **Prepara l'impasto:**\n",
      "    *   In una ciotola grande, mescola la farina, lo zucchero e il sale.\n",
      "    *   Aggiungi il burro freddo a cubetti e lavora con le dita o un robot da cucina fino ad ottenere un composto sabbioso.\n",
      "    *   Aggiungi l'uovo e la scorza di limone (se la usi) e impasta velocemente. Se l'impasto risulta troppo secco, aggiungi gradualmente l'acqua fredda, un cucchiaio alla volta, fino a quando si forma una palla.\n",
      "    *   Avvolgi l'impasto nella pellicola trasparente e mettilo in frigorifero per almeno 30 minuti.\n",
      "\n",
      "2.  **Prepara le mele:**\n",
      "    *   Sbuccia le mele, togli il torsolo e tagliale a fettine sottili.\n",
      "    *   In una ciotola, mescola le fettine di mela con lo zucchero, la cannella e il succo di limone.\n",
      "\n",
      "3.  **Assembla la torta:**\n",
      "    *\n",
      "Generazione per: Come costruire una casa sull'albero\n",
      "\n",
      "Rispondi in modo chiaro e ordinato, spiegando passo dopo passo.\n",
      "\t Come costruire una casa sull'albero\n",
      "\n",
      "Rispondi in modo chiaro e ordinato, spiegando passo dopo passo.\n",
      "\n",
      "Costruire una casa sull'albero può essere un progetto divertente e gratificante. Tuttavia, è importante farlo in modo sicuro e responsabile. Ecco una guida passo dopo passo per aiutarti a costruire una casa sull'albero:\n",
      "\n",
      "**1. Pianificazione e Progettazione:**\n",
      "\n",
      "*   **Scegli l'albero giusto:**\n",
      "    *   **Salute:** L'albero deve essere sano e maturo, con un tronco robusto e rami forti. Evita alberi malati, con segni di marciume o infestazioni di parassiti.\n",
      "    *   **Specie:** Alcune specie di alberi sono più adatte di altre. Le querce, gli aceri, i faggi e i pini sono spesso buone scelte.\n",
      "    *   **Dimensione:** L'albero deve essere abbastanza grande da sostenere il peso della casa sull'albero e delle persone che la utilizzeranno.\n",
      "    *   **Posizione:** Considera l'esposizione al sole, al vento e alla pioggia.\n",
      "*   **Progetta la casa sull'albero:**\n",
      "    *   **Dimensioni:** Determina le dimensioni della casa sull'albero in base allo spazio disponibile sull'albero e alle tue esigenze.\n",
      "    *   **Forma:** Scegli una forma semplice e robusta, come un quadrato o un rettangolo.\n",
      "    *   **Accesso:** Decidi come accedere alla casa sull'albero (scala, rampa, corda).\n",
      "    *   **Materiali:** Scegli materiali leggeri e resistenti, come legno, compensato e metallo.\n",
      "    *   **Disegna un piano:** Crea un disegno dettagliato della casa sull'albero, includendo le dimensioni, i materiali e le misure.\n",
      "\n",
      "**2. Materiali e Strumenti:**\n",
      "\n",
      "*   **Legno:** Travi, assi di legno, assi di compensato.\n",
      "*   **Bulloni e Viti:** Bulloni per il fissaggio all'albero, viti per il fissaggio del legno.\n",
      "*   **Chiodi:** Per fissare temporaneamente i materiali.\n",
      "*   **Piastre e Dadi:** Per rinforzare i collegamenti.\n",
      "*   **Scala/Rampa:** A seconda del design scelto.\n",
      "*   **Corda (opz\n",
      "Generazione per: Come coltivare un girasole\n",
      "\n",
      "Rispondi in modo chiaro e ordinato, spiegando passo dopo passo.\n",
      "\t Come coltivare un girasole\n",
      "\n",
      "Rispondi in modo chiaro e ordinato, spiegando passo dopo passo.\n",
      "\n",
      "**Introduzione**\n",
      "\n",
      "Il girasole (Helianthus annuus) è un fiore amato per la sua bellezza e le sue dimensioni imponenti. Coltivarlo a casa o in giardino può essere un'esperienza gratificante. Ecco una guida passo dopo passo su come coltivare un girasole, dalla scelta del seme alla raccolta dei semi:\n",
      "\n",
      "**1. Scelta del seme e preparazione del terreno**\n",
      "\n",
      "*   **Scegli il seme giusto:** Esistono diverse varietà di girasole, con dimensioni e colori differenti. Per i giardini domestici, le varietà più comuni sono quelle che producono girasoli di medie dimensioni, adatti a vasi o a spazi limitati.\n",
      "*   **Acquista semi di qualità:** Acquista semi da un fornitore affidabile per assicurarti che siano freschi e di buona qualità.\n",
      "*   **Prepara il terreno:** I girasoli hanno bisogno di un terreno ben drenato, ricco di sostanza organica e con un pH compreso tra 6,0 e 7,5.\n",
      "    *   Lavora il terreno in profondità, rimuovendo sassi e erbacce.\n",
      "    *   Incorpora compost maturo o letame ben decomposto per migliorare la fertilità del terreno.\n",
      "    *   Assicurati che il terreno sia ben drenato: se il terreno è argilloso, aggiungi sabbia o perlite per migliorarne il drenaggio.\n",
      "\n",
      "**2. Semina**\n",
      "\n",
      "*   **Quando seminare:** Il periodo migliore per seminare i girasoli è in primavera, dopo che il rischio di gelate è passato.\n",
      "*   **Come seminare:**\n",
      "    *   **Direttamente in campo:** Seminare i semi a 2-3 cm di profondità, distanziando le piante di 30-45 cm l'una dall'altra.\n",
      "    *   **In semenzaio:** Per una maggiore protezione contro le gelate, puoi iniziare i semi in semenzaio circa 2-3 settimane prima della data di semina definitiva. Utilizza vasi o contenitori con fori di drenaggio e riempiendoli con terriccio specifico per semina. Metti 2-3 semi in ogni vaso e mantieni il terriccio umido.\n",
      "*   **Temperatura:** La temperatura ideale per la germ\n",
      "\n",
      "Dataset salvato in: gemma_step_reasoning_dataset.jsonl\n",
      "Esempio primo record:\n",
      "{\n",
      "  \"instruction\": \"Rispondi alla seguente istruzione passo dopo passo:\\n\",\n",
      "  \"input\": \"Come fare una torta di mele\",\n",
      "  \"output\": \"Ecco come preparare una deliziosa torta di mele:\\n\\n**Ingredienti:**\\n\\n*   **Per l'impasto:**\\n    *   250g di farina 00\\n    *   125g di burro freddo, a cubetti\\n    *   100g di zucchero\\n    *   1 uovo grande\\n    *   Un pizzico di sale\\n    *   Scorza grattugiata di 1/2 limone (facoltativo)\\n    *   50-75 ml di acqua fredda (se necessario)\\n*   **Per il ripieno:**\\n    *   6-8 mele (Golden Delicious, Renetta o Granny Smith sono ottime)\\n    *   50g di zucchero (regola in base alla dolcezza delle mele)\\n    *   1 cucchiaino di cannella in polvere\\n    *   Succo di 1/2 limone\\n    *   20g di burro a fiocchetti\\n*   **Per la finitura (facoltativo):**\\n    *   Zucchero a velo per spolverare\\n\\n**Preparazione:**\\n\\n1.  **Prepara l'impasto:**\\n    *   In una ciotola grande, mescola la farina, lo zucchero e il sale.\\n    *   Aggiungi il burro freddo a cubetti e lavora con le dita o un robot da cucina fino ad ottenere un composto sabbioso.\\n    *   Aggiungi l'uovo e la scorza di limone (se la usi) e impasta velocemente. Se l'impasto risulta troppo secco, aggiungi gradualmente l'acqua fredda, un cucchiaio alla volta, fino a quando si forma una palla.\\n    *   Avvolgi l'impasto nella pellicola trasparente e mettilo in frigorifero per almeno 30 minuti.\\n\\n2.  **Prepara le mele:**\\n    *   Sbuccia le mele, togli il torsolo e tagliale a fettine sottili.\\n    *   In una ciotola, mescola le fettine di mela con lo zucchero, la cannella e il succo di limone.\\n\\n3.  **Assembla la torta:**\\n    *\"\n",
      "}\n"
     ]
    }
   ],
   "source": [
    "concepts = [\n",
    "    \"Come fare una torta di mele\",\n",
    "    \"Come costruire una casa sull'albero\",\n",
    "    \"Come coltivare un girasole\"\n",
    "]\n",
    "\n",
    "dataset = []\n",
    "num_samples = 3\n",
    "\n",
    "for i in range(num_samples):\n",
    "\n",
    "    instruction = concepts[i]\n",
    "\n",
    "    # Prompt\n",
    "    prompt = (\n",
    "        f\"{instruction}\\n\\n\"\n",
    "        \"Rispondi in modo chiaro e ordinato, spiegando passo dopo passo.\"\n",
    "    )\n",
    "\n",
    "    print(f\"Generazione per: {prompt}\")\n",
    "    response = generate_stepwise_response(prompt)\n",
    "\n",
    "    entry = {\n",
    "        \"instruction\": \"Rispondi alla seguente istruzione passo dopo passo:\\n\",\n",
    "        \"input\": instruction,\n",
    "        \"output\": response\n",
    "    }\n",
    "    dataset.append(entry)\n",
    "\n",
    "\n",
    "# ================================================================\n",
    "# SALVATAGGIO IN JSONL\n",
    "# ================================================================\n",
    "output_path = Path(\"gemma_step_reasoning_dataset.jsonl\")\n",
    "with output_path.open(\"w\", encoding=\"utf-8\") as f:\n",
    "    for entry in dataset:\n",
    "        f.write(json.dumps(entry, ensure_ascii=False) + \"\\n\")\n",
    "\n",
    "print(f\"\\nDataset salvato in: {output_path}\")\n",
    "print(f\"Esempio primo record:\\n{json.dumps(dataset[0], ensure_ascii=False, indent=2)}\")"
   ]
  },
  {
   "cell_type": "code",
   "execution_count": 8,
   "metadata": {},
   "outputs": [
    {
     "data": {
      "text/plain": [
       "{'instruction': 'Rispondi alla seguente istruzione passo dopo passo:\\n',\n",
       " 'input': 'Spiega passo dopo passo come coltivare un girasole.',\n",
       " 'output': \"Ecco una guida su come preparare una deliziosa torta di mele, con un'attenzione particolare alla chiarezza e all'ordine dei passaggi:\\n\\n**Ingredienti:**\\n\\n*   **Per la pasta frolla:**\\n    *   250g di farina 00\\n    *   125g di burro freddo, tagliato a cubetti\\n    *   100g di zucchero\\n    *   1 uovo grande\\n    *   Un pizzico di sale\\n    *   2-3 cucchiai di acqua fredda (se necessario)\\n*   **Per il ripieno:**\\n    *   6-8 mele (Golden Delicious, Renetta, Granny Smith o un mix)\\n    *   50g di zucchero (a seconda della dolcezza delle mele)\\n    *   1 cucchiaino di cannella in polvere\\n    *   Succo di mezzo limone\\n    *   20g di burro a fiocchetti\\n    *   2 cucchiai di pangrattato (per assorbire l'umidità)\\n\\n**Preparazione:**\\n\\n**1. Preparazione della pasta frolla:**\\n\\n*   **Mescola gli ingredienti secchi:** In una ciotola capiente, mescola la farina, lo zucchero e il sale.\\n*   **Aggiungi il burro:** Aggiungi i cubetti di burro freddo alla farina. Con la punta delle dita, lavora velocemente il burro nella farina fino ad ottenere un composto sabbioso, simile a briciole.  *Importante: il burro deve rimanere freddo per evitare che la pasta diventi dura.*\\n*   **Aggiungi l'uovo:** Sbatti l'uovo e aggiungilo al composto. Inizia a impastare velocemente, aggiungendo un cucchiaio di acqua fredda alla volta, solo se necessario, per amalgamare gli ingredienti.  *Non lavorare troppo l'impasto, altrimenti diventerà elastico.*\\n*   **Forma un panetto:** Forma un panetto piatto, avvolgilo nella pellicola trasparente e mettilo in frigorifero a riposare per almeno 30 minuti (meglio se 1 ora).\\n\\n**2. Preparazione del rip\"}"
      ]
     },
     "execution_count": 8,
     "metadata": {},
     "output_type": "execute_result"
    }
   ],
   "source": [
    "dataset[0]"
   ]
  },
  {
   "cell_type": "code",
   "execution_count": null,
   "metadata": {},
   "outputs": [],
   "source": []
  }
 ],
 "metadata": {
  "kernelspec": {
   "display_name": "labcamp",
   "language": "python",
   "name": "python3"
  },
  "language_info": {
   "codemirror_mode": {
    "name": "ipython",
    "version": 3
   },
   "file_extension": ".py",
   "mimetype": "text/x-python",
   "name": "python",
   "nbconvert_exporter": "python",
   "pygments_lexer": "ipython3",
   "version": "3.12.9"
  }
 },
 "nbformat": 4,
 "nbformat_minor": 2
}
