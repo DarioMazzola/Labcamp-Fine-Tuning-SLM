{
 "cells": [
  {
   "cell_type": "code",
   "execution_count": null,
   "id": "eccf0eec",
   "metadata": {},
   "outputs": [],
   "source": [
    "!pip install -U tensorflow -q\n",
    "!pip install -U unsloth vllm -q\n",
    "!pip install bitsandbytes accelerate peft -q"
   ]
  },
  {
   "cell_type": "code",
   "execution_count": null,
   "id": "762cc9d1",
   "metadata": {},
   "outputs": [],
   "source": [
    "import unsloth\n",
    "from unsloth import FastModel, is_bfloat16_supported\n",
    "from unsloth.chat_templates import get_chat_template, train_on_responses_only\n",
    "import argparse\n",
    "import logging\n",
    "import sys\n",
    "from transformers import TrainingArguments, DataCollatorForSeq2Seq\n",
    "import os, glob, shutil, logging\n",
    "import torch\n",
    "from datasets import load_dataset\n",
    "from huggingface_hub import login\n",
    "from trl import SFTTrainer"
   ]
  },
  {
   "cell_type": "code",
   "execution_count": null,
   "id": "8004233c",
   "metadata": {},
   "outputs": [],
   "source": [
    "OUTPUT_DIR = \"gemma-3-finetuned\"\n",
    "MODEL_NAME = \"unsloth/gemma-3-4b-it\""
   ]
  },
  {
   "cell_type": "markdown",
   "id": "09c082f4",
   "metadata": {},
   "source": [
    "# Info about the system"
   ]
  },
  {
   "cell_type": "code",
   "execution_count": null,
   "id": "b04bed03",
   "metadata": {},
   "outputs": [],
   "source": [
    "# Log system info\n",
    "print(f\"PyTorch version: {torch.__version__}\")\n",
    "print(f\"CUDA available: {torch.cuda.is_available()}\")\n",
    "if torch.cuda.is_available():\n",
    "    print(f\"GPU: {torch.cuda.get_device_name(0)}\")\n",
    "    print(f\"GPU memory: {torch.cuda.get_device_properties(0).total_memory / 1e9:.1f} GB\")"
   ]
  },
  {
   "cell_type": "code",
   "execution_count": null,
   "id": "8710d476",
   "metadata": {},
   "outputs": [],
   "source": [
    "model, tokenizer = FastModel.from_pretrained(\n",
    "    model_name = MODEL_NAME,\n",
    "    max_seq_length = 2048,\n",
    "    load_in_4bit = True,  # 4 bit quantization to reduce memory\n",
    "    load_in_8bit = False, # A bit more accurate, uses 2x memory\n",
    "    full_finetuning = False # Whether to fine-tune all model weights or just adapters (if available)\n",
    ")"
   ]
  },
  {
   "cell_type": "code",
   "execution_count": null,
   "id": "74845d95",
   "metadata": {},
   "outputs": [],
   "source": [
    "model = FastModel.get_peft_model(\n",
    "    model,\n",
    "    finetune_vision_layers     = False, # Turn off for just text!\n",
    "    finetune_language_layers   = True,  # Should leave on!\n",
    "    finetune_attention_modules = True,  # Should leave on!\n",
    "    finetune_mlp_modules       = True,  # Should leave on!\n",
    "\n",
    "    r = 8,           # Larger = higher accuracy, but might overfit\n",
    "    lora_alpha = 8,  # Recommended alpha == r at least\n",
    "    lora_dropout = 0,\n",
    "    bias = \"none\",\n",
    "    random_state = 3407,\n",
    ")"
   ]
  },
  {
   "cell_type": "markdown",
   "id": "c8804b91",
   "metadata": {},
   "source": [
    "<a name=\"Data\"></a>\n",
    "# Data Prep\n",
    "We now use the `Gemma-3` format for conversation style finetunes. We use [rewoo/planner_instruction_tuning_2k](https://huggingface.co/datasets/rewoo/planner_instruction_tuning_2k) dataset composed of <**Instruction, Input, Output**>.\n",
    "\n",
    "Gemma-3 renders multi turn conversations like below:\n",
    "\n",
    "```\n",
    "<bos><start_of_turn>user\n",
    "Hello!<end_of_turn>\n",
    "<start_of_turn>model\n",
    "Hey there!<end_of_turn>\n",
    "```\n",
    "\n",
    "We use `get_chat_template` function to get the correct chat template. Unsloth natively supports `zephyr, chatml, mistral, llama, alpaca, vicuna, vicuna_old, phi3, llama3, phi4, qwen2.5, gemma3` and more."
   ]
  },
  {
   "cell_type": "code",
   "execution_count": null,
   "id": "57d6dff3",
   "metadata": {},
   "outputs": [],
   "source": [
    "from unsloth.chat_templates import get_chat_template\n",
    "tokenizer = get_chat_template(\n",
    "    tokenizer,\n",
    "    chat_template = \"gemma-3\",\n",
    ")\n",
    "\n",
    "tokenizer"
   ]
  },
  {
   "cell_type": "code",
   "execution_count": null,
   "id": "e86dbc3f",
   "metadata": {},
   "outputs": [],
   "source": [
    "from datasets import load_dataset\n",
    "dataset = load_dataset(\"rewoo/planner_instruction_tuning_2k\", split = \"train\")\n",
    "\n",
    "# To reduce the training time, we will use a smaller dataset. You can remove this line to use the full dataset.\n",
    "dataset = dataset.select(range(100))\n",
    "\n",
    "dataset = dataset.train_test_split(test_size=0.1, seed=3407)\n",
    "train_dataset = dataset[\"train\"]\n",
    "eval_dataset = dataset[\"test\"]"
   ]
  },
  {
   "cell_type": "code",
   "execution_count": null,
   "id": "1daecbe3",
   "metadata": {},
   "outputs": [],
   "source": [
    "from transformers import AutoTokenizer\n",
    "\n",
    "tokenizer = AutoTokenizer.from_pretrained(\"unsloth/gemma-3-4b-it\", use_fast=True)\n",
    "tokenizer.get_chat_template()"
   ]
  },
  {
   "cell_type": "code",
   "execution_count": null,
   "id": "387a3cd5",
   "metadata": {},
   "outputs": [],
   "source": [
    "def formatting_prompts_func(examples):\n",
    "    \"\"\"Converte il dataset in formato conversazionale Gemma-3\"\"\"\n",
    "    texts = []\n",
    "    \n",
    "    for instr, inp, out in zip(examples[\"instruction\"], examples[\"input\"], examples[\"output\"]):\n",
    "        # Costruisci il prompt utente\n",
    "        if inp.strip():\n",
    "            user_content = f\"{instr}\\n\\nInput: {inp}\"\n",
    "        else:\n",
    "            user_content = instr\n",
    "        \n",
    "        # Formato conversazionale\n",
    "        conversation = [\n",
    "            {\"role\": \"user\", \"content\": user_content},\n",
    "            {\"role\": \"assistant\", \"content\": out}\n",
    "        ]\n",
    "\n",
    "        text = tokenizer.apply_chat_template(\n",
    "            conversation,\n",
    "            tokenize=False,\n",
    "            add_generation_prompt=False\n",
    "        )\n",
    "        texts.append(text)\n",
    "    \n",
    "    return {\"text\": texts}\n",
    "\n",
    "train_dataset = train_dataset.map(formatting_prompts_func, batched=True, remove_columns=train_dataset.column_names)\n",
    "eval_dataset = eval_dataset.map(formatting_prompts_func, batched=True, remove_columns=eval_dataset.column_names)"
   ]
  },
  {
   "cell_type": "code",
   "execution_count": null,
   "id": "5df13fa9",
   "metadata": {},
   "outputs": [],
   "source": [
    "print(train_dataset[0]['text'])"
   ]
  },
  {
   "cell_type": "markdown",
   "id": "f1c430c9",
   "metadata": {},
   "source": [
    "# Start Training"
   ]
  },
  {
   "cell_type": "code",
   "execution_count": null,
   "id": "38214916",
   "metadata": {},
   "outputs": [],
   "source": [
    "# Training arguments\n",
    "training_args = TrainingArguments(\n",
    "    per_device_train_batch_size=args.per_device_train_batch_size,\n",
    "    gradient_accumulation_steps=args.gradient_accumulation_steps,\n",
    "    warmup_ratio=args.warmup_ratio,\n",
    "    num_train_epochs=args.num_train_epochs,\n",
    "    learning_rate=args.learning_rate,\n",
    "    fp16=args.fp16 and not is_bfloat16_supported(),\n",
    "    bf16=args.bf16 and is_bfloat16_supported(),\n",
    "    logging_steps=args.logging_steps,\n",
    "    optim=\"adamw_8bit\",\n",
    "    weight_decay=0.01,\n",
    "    lr_scheduler_type=args.lr_scheduler_type,\n",
    "    eval_strategy=\"steps\",\n",
    "    eval_steps=args.eval_steps,\n",
    "    save_strategy=args.save_strategy,\n",
    "    save_steps=args.save_steps,\n",
    "    save_total_limit=2,\n",
    "    load_best_model_at_end=True,\n",
    "    metric_for_best_model=\"eval_loss\",\n",
    "    seed=3407,\n",
    "    output_dir=output_dir,\n",
    "    report_to=\"none\",\n",
    "    gradient_checkpointing=args.gradient_checkpointing,\n",
    ")"
   ]
  },
  {
   "cell_type": "code",
   "execution_count": null,
   "id": "98bb982a",
   "metadata": {},
   "outputs": [],
   "source": [
    "# Trainer\n",
    "trainer = SFTTrainer(\n",
    "    model=model,\n",
    "    tokenizer=tokenizer,\n",
    "    train_dataset=train_dataset,\n",
    "    eval_dataset=eval_dataset,\n",
    "    dataset_text_field=\"text\",\n",
    "    max_seq_length=args.max_seq_length,\n",
    "    data_collator=DataCollatorForSeq2Seq(tokenizer=tokenizer, pad_to_multiple_of=8),\n",
    "    dataset_num_proc=2,\n",
    "    packing=args.packing,\n",
    "    args=training_args,\n",
    ")"
   ]
  },
  {
   "cell_type": "code",
   "execution_count": null,
   "id": "a515d88a",
   "metadata": {},
   "outputs": [],
   "source": [
    "# TRAIN ON RESPONSES ONLY\n",
    "trainer = train_on_responses_only(\n",
    "    trainer,\n",
    "    instruction_part=\"<start_of_turn>user\\n\",\n",
    "    response_part=\"<start_of_turn>model\\n\",\n",
    ")"
   ]
  },
  {
   "cell_type": "markdown",
   "id": "ff8e12a8",
   "metadata": {},
   "source": [
    "Input is separated from output"
   ]
  },
  {
   "cell_type": "code",
   "execution_count": null,
   "id": "ba2d25b0",
   "metadata": {},
   "outputs": [],
   "source": [
    "tokenizer.decode(trainer.train_dataset[1][\"input_ids\"])"
   ]
  },
  {
   "cell_type": "markdown",
   "id": "29c1ce5e",
   "metadata": {},
   "source": [
    "Only the model response is shown"
   ]
  },
  {
   "cell_type": "code",
   "execution_count": null,
   "id": "af447c93",
   "metadata": {},
   "outputs": [],
   "source": [
    "tokenizer.decode([tokenizer.pad_token_id if x == -100 else x for x in trainer.train_dataset[100][\"labels\"]]).replace(tokenizer.pad_token, \"[MASK]\")"
   ]
  },
  {
   "cell_type": "code",
   "execution_count": null,
   "id": "0a4fd4af",
   "metadata": {},
   "outputs": [],
   "source": [
    "# Training\n",
    "print(\"Starting training...\")\n",
    "trainer_stats = trainer.train()\n",
    "print(\"Training completed successfully!\")"
   ]
  },
  {
   "cell_type": "code",
   "execution_count": null,
   "id": "5d48235a",
   "metadata": {},
   "outputs": [],
   "source": [
    "# Save model and artifacts\n",
    "print(\"Saving model and artifacts...\")\n",
    "\n",
    "# SALVA IL MODELLO FUSO\n",
    "print(\"Merging LoRA weights into base model...\")\n",
    "model.save_pretrained_merged(OUTPUT_DIR, tokenizer)\n",
    "\n",
    "# Esporta in GGUF (GGUF = formato llama.cpp)\n",
    "print(\"Saving model in GGUF format...\")\n",
    "model.save_pretrained_gguf(\n",
    "    OUTPUT_DIR,              # cartella HF (Hugging Face) con config.json\n",
    "    tokenizer,\n",
    "    quantization_method=\"f16\"  # es.: \"q4_k_m\", \"q8_0\", \"f16\"\n",
    ")"
   ]
  }
 ],
 "metadata": {
  "kernelspec": {
   "display_name": ".venv",
   "language": "python",
   "name": "python3"
  },
  "language_info": {
   "codemirror_mode": {
    "name": "ipython",
    "version": 3
   },
   "file_extension": ".py",
   "mimetype": "text/x-python",
   "name": "python",
   "nbconvert_exporter": "python",
   "pygments_lexer": "ipython3",
   "version": "3.12.8"
  }
 },
 "nbformat": 4,
 "nbformat_minor": 5
}
